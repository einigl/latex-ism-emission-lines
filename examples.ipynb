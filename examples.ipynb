{
 "cells": [
  {
   "attachments": {},
   "cell_type": "markdown",
   "metadata": {},
   "source": [
    "# Examples of `ism_lines_helpers`"
   ]
  },
  {
   "cell_type": "code",
   "execution_count": 1,
   "metadata": {},
   "outputs": [],
   "source": [
    "import csv\n",
    "from IPython.display import display, Latex\n",
    "\n",
    "from ism_lines_helpers import (\n",
    "    molecule_and_transition,\n",
    "    molecule,\n",
    "    transition,\n",
    "    is_line_of,\n",
    "    filter_molecules,\n",
    "    molecules_among_lines,\n",
    "    molecule_to_latex,\n",
    "    transition_to_latex,\n",
    "    line_to_latex,\n",
    ")\n"
   ]
  },
  {
   "cell_type": "code",
   "execution_count": 2,
   "metadata": {},
   "outputs": [],
   "source": [
    "# Import lines from meudon-pdr-lines.csv\n",
    "\n",
    "with open('meudon-pdr-lines.csv', newline='') as file:\n",
    "    lines = []\n",
    "    for line in csv.reader(file):\n",
    "        lines.append(line[0])"
   ]
  },
  {
   "attachments": {},
   "cell_type": "markdown",
   "metadata": {},
   "source": [
    "## Processing a single given line"
   ]
  },
  {
   "cell_type": "code",
   "execution_count": 3,
   "metadata": {},
   "outputs": [],
   "source": [
    "line = \"h2_v0_j2__v0_j0\""
   ]
  },
  {
   "attachments": {},
   "cell_type": "markdown",
   "metadata": {},
   "source": [
    "#### Molecule and transition"
   ]
  },
  {
   "cell_type": "code",
   "execution_count": 4,
   "metadata": {},
   "outputs": [
    {
     "data": {
      "text/plain": [
       "('h2', 'v0_j2__v0_j0')"
      ]
     },
     "metadata": {},
     "output_type": "display_data"
    }
   ],
   "source": [
    "display(molecule_and_transition(line))"
   ]
  },
  {
   "attachments": {},
   "cell_type": "markdown",
   "metadata": {},
   "source": [
    "#### Molecule"
   ]
  },
  {
   "cell_type": "code",
   "execution_count": 5,
   "metadata": {},
   "outputs": [
    {
     "data": {
      "text/plain": [
       "'h2'"
      ]
     },
     "metadata": {},
     "output_type": "display_data"
    }
   ],
   "source": [
    "display(molecule(line))"
   ]
  },
  {
   "attachments": {},
   "cell_type": "markdown",
   "metadata": {},
   "source": [
    "#### Transition"
   ]
  },
  {
   "cell_type": "code",
   "execution_count": 6,
   "metadata": {},
   "outputs": [
    {
     "data": {
      "text/plain": [
       "'v0_j2__v0_j0'"
      ]
     },
     "metadata": {},
     "output_type": "display_data"
    }
   ],
   "source": [
    "display(transition(line))"
   ]
  },
  {
   "attachments": {},
   "cell_type": "markdown",
   "metadata": {},
   "source": [
    "#### Line to LaTeX"
   ]
  },
  {
   "cell_type": "code",
   "execution_count": 7,
   "metadata": {},
   "outputs": [
    {
     "data": {
      "text/plain": [
       "'$H_2$ $\\\\nu=0$ ($J=2$ $\\\\to$ $J=0$)'"
      ]
     },
     "metadata": {},
     "output_type": "display_data"
    },
    {
     "data": {
      "text/latex": [
       "$H_2$ $\\nu=0$ ($J=2$ $\\to$ $J=0$)"
      ],
      "text/plain": [
       "<IPython.core.display.Latex object>"
      ]
     },
     "metadata": {},
     "output_type": "display_data"
    }
   ],
   "source": [
    "latex_line = line_to_latex(line)\n",
    "\n",
    "display(latex_line)\n",
    "display(Latex(latex_line))"
   ]
  },
  {
   "attachments": {},
   "cell_type": "markdown",
   "metadata": {},
   "source": [
    "#### Molecule to LaTeX"
   ]
  },
  {
   "cell_type": "code",
   "execution_count": 8,
   "metadata": {},
   "outputs": [
    {
     "data": {
      "text/plain": [
       "'$H_2$'"
      ]
     },
     "metadata": {},
     "output_type": "display_data"
    },
    {
     "data": {
      "text/latex": [
       "$H_2$"
      ],
      "text/plain": [
       "<IPython.core.display.Latex object>"
      ]
     },
     "metadata": {},
     "output_type": "display_data"
    }
   ],
   "source": [
    "mol_line = molecule_to_latex(molecule(line))\n",
    "\n",
    "display(mol_line, Latex(mol_line))"
   ]
  },
  {
   "attachments": {},
   "cell_type": "markdown",
   "metadata": {},
   "source": [
    "#### Transition to LaTeX"
   ]
  },
  {
   "cell_type": "code",
   "execution_count": 9,
   "metadata": {},
   "outputs": [
    {
     "data": {
      "text/plain": [
       "'$\\\\nu=0$ ($J=2$ $\\\\to$ $J=0$)'"
      ]
     },
     "metadata": {},
     "output_type": "display_data"
    },
    {
     "data": {
      "text/latex": [
       "$\\nu=0$ ($J=2$ $\\to$ $J=0$)"
      ],
      "text/plain": [
       "<IPython.core.display.Latex object>"
      ]
     },
     "metadata": {},
     "output_type": "display_data"
    }
   ],
   "source": [
    "trans_line = transition_to_latex(transition(line))\n",
    "\n",
    "display(trans_line, Latex(trans_line))"
   ]
  },
  {
   "attachments": {},
   "cell_type": "markdown",
   "metadata": {},
   "source": [
    "## Processing of a list of lines"
   ]
  },
  {
   "attachments": {},
   "cell_type": "markdown",
   "metadata": {},
   "source": [
    "#### Get chemical species among lines"
   ]
  },
  {
   "cell_type": "code",
   "execution_count": 10,
   "metadata": {},
   "outputs": [
    {
     "name": "stdout",
     "output_type": "stream",
     "text": [
      "h h2 hd co 13c_o c_18o 13c_18o c n o s si cs cn hcn hnc oh h2o h2_18o c2h c_c3h2 so cp sp hcop chp ohp shp\n"
     ]
    }
   ],
   "source": [
    "print(*molecules_among_lines(lines))"
   ]
  },
  {
   "attachments": {},
   "cell_type": "markdown",
   "metadata": {},
   "source": [
    "#### Filter lines by chemical species"
   ]
  },
  {
   "cell_type": "code",
   "execution_count": 11,
   "metadata": {},
   "outputs": [
    {
     "name": "stdout",
     "output_type": "stream",
     "text": [
      "13c_o_j1__j0 13c_o_j2__j1 13c_o_j3__j2 13c_o_j4__j3 13c_o_j5__j4 13c_o_j6__j5 13c_o_j7__j6 13c_o_j8__j7 13c_o_j9__j8 13c_o_j10__j9 13c_o_j11__j10 13c_o_j12__j11 13c_o_j13__j12 13c_o_j14__j13 13c_o_j15__j14 13c_o_j16__j15 13c_o_j17__j16 13c_o_j18__j17 13c_o_j19__j18 13c_o_j20__j19 13c_o_j21__j20 13c_o_j22__j21 13c_o_j23__j22 13c_o_j24__j23 13c_o_j25__j24 13c_o_j26__j25 13c_o_j27__j26 13c_o_j28__j27 13c_o_j29__j28 13c_o_j30__j29 13c_o_j31__j30 c_18o_j1__j0 c_18o_j2__j1 c_18o_j3__j2 c_18o_j4__j3 c_18o_j5__j4 c_18o_j6__j5 c_18o_j7__j6 c_18o_j8__j7 c_18o_j9__j8 c_18o_j10__j9 c_18o_j11__j10 c_18o_j12__j11 c_18o_j13__j12 c_18o_j14__j13 c_18o_j15__j14 c_18o_j16__j15 c_18o_j17__j16 c_18o_j18__j17 c_18o_j19__j18 c_18o_j20__j19 c_18o_j21__j20 c_18o_j22__j21 c_18o_j23__j22 c_18o_j24__j23 c_18o_j25__j24 c_18o_j26__j25 c_18o_j27__j26 c_18o_j28__j27 c_18o_j29__j28 c_18o_j30__j29 c_18o_j31__j30\n"
     ]
    }
   ],
   "source": [
    "mols = [\"13c_o\", \"c_18o\"]\n",
    "print(*filter_molecules(lines, mols))"
   ]
  },
  {
   "attachments": {},
   "cell_type": "markdown",
   "metadata": {},
   "source": [
    "#### Display a LaTeX version of a given chemical species line"
   ]
  },
  {
   "cell_type": "code",
   "execution_count": 14,
   "metadata": {},
   "outputs": [
    {
     "data": {
      "text/latex": [
       "$H_2O$ ($J=1$, $k_a=1$, $k_c=1$ $\\to$ $J=0$, $k_a=0$, $k_c=0$)"
      ],
      "text/plain": [
       "<IPython.core.display.Latex object>"
      ]
     },
     "metadata": {},
     "output_type": "display_data"
    }
   ],
   "source": [
    "mol = \"h2o\"\n",
    "for l in lines:\n",
    "    if is_line_of(l, mol):\n",
    "        display(Latex(line_to_latex(l)))\n",
    "        break"
   ]
  }
 ],
 "metadata": {
  "kernelspec": {
   "display_name": "Python 3",
   "language": "python",
   "name": "python3"
  },
  "language_info": {
   "codemirror_mode": {
    "name": "ipython",
    "version": 3
   },
   "file_extension": ".py",
   "mimetype": "text/x-python",
   "name": "python",
   "nbconvert_exporter": "python",
   "pygments_lexer": "ipython3",
   "version": "3.9.2"
  },
  "orig_nbformat": 4
 },
 "nbformat": 4,
 "nbformat_minor": 2
}
