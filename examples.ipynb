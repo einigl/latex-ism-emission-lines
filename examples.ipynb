{
 "cells": [
  {
   "cell_type": "markdown",
   "metadata": {},
   "source": [
    "# Examples of `ism_lines_helpers`"
   ]
  },
  {
   "cell_type": "code",
   "execution_count": null,
   "metadata": {},
   "outputs": [],
   "source": [
    "import csv\n",
    "import random as rd\n",
    "from IPython.display import display, Latex\n",
    "\n",
    "from ism_lines_helpers import (\n",
    "    molecule_and_transition,\n",
    "    molecule,\n",
    "    transition,\n",
    "    is_line_of,\n",
    "    filter_molecules,\n",
    "    molecules_among_lines,\n",
    "    molecule_to_latex,\n",
    "    transition_to_latex,\n",
    "    line_to_latex,\n",
    "    remove_hyperfine,\n",
    "    is_hyperfine,\n",
    "    Settings\n",
    ")\n"
   ]
  },
  {
   "cell_type": "code",
   "execution_count": null,
   "metadata": {},
   "outputs": [],
   "source": [
    "# Import lines from meudon-pdr-lines.csv\n",
    "\n",
    "with open('meudon-pdr-lines.csv', newline='') as file:\n",
    "    lines = []\n",
    "    for line in csv.reader(file):\n",
    "        lines.append(line[0])"
   ]
  },
  {
   "cell_type": "markdown",
   "metadata": {},
   "source": [
    "## Processing a single given line"
   ]
  },
  {
   "cell_type": "code",
   "execution_count": null,
   "metadata": {},
   "outputs": [],
   "source": [
    "line = \"h2_v0_j2__v0_j0\""
   ]
  },
  {
   "cell_type": "markdown",
   "metadata": {},
   "source": [
    "### Molecule and transition"
   ]
  },
  {
   "cell_type": "code",
   "execution_count": null,
   "metadata": {},
   "outputs": [],
   "source": [
    "display(molecule_and_transition(line))"
   ]
  },
  {
   "cell_type": "markdown",
   "metadata": {},
   "source": [
    "### Molecule"
   ]
  },
  {
   "cell_type": "code",
   "execution_count": null,
   "metadata": {},
   "outputs": [],
   "source": [
    "display(molecule(line))"
   ]
  },
  {
   "cell_type": "markdown",
   "metadata": {},
   "source": [
    "### Transition"
   ]
  },
  {
   "cell_type": "code",
   "execution_count": null,
   "metadata": {},
   "outputs": [],
   "source": [
    "display(transition(line))"
   ]
  },
  {
   "cell_type": "markdown",
   "metadata": {},
   "source": [
    "### Check the molecule"
   ]
  },
  {
   "cell_type": "code",
   "execution_count": null,
   "metadata": {},
   "outputs": [],
   "source": [
    "print(\"H2 line?\", is_line_of(line, \"h2\"))\n",
    "print(\"H2O line?\", is_line_of(line, 'h2o'))"
   ]
  },
  {
   "cell_type": "markdown",
   "metadata": {},
   "source": [
    "### Line to LaTeX"
   ]
  },
  {
   "cell_type": "code",
   "execution_count": null,
   "metadata": {},
   "outputs": [],
   "source": [
    "latex_line = line_to_latex(line)\n",
    "\n",
    "display(latex_line)\n",
    "display(Latex(latex_line))"
   ]
  },
  {
   "cell_type": "markdown",
   "metadata": {},
   "source": [
    "### Molecule to LaTeX"
   ]
  },
  {
   "cell_type": "code",
   "execution_count": null,
   "metadata": {},
   "outputs": [],
   "source": [
    "mol_line = molecule_to_latex(molecule(line))\n",
    "\n",
    "display(mol_line, Latex(mol_line))"
   ]
  },
  {
   "cell_type": "markdown",
   "metadata": {},
   "source": [
    "### Transition to LaTeX"
   ]
  },
  {
   "cell_type": "code",
   "execution_count": null,
   "metadata": {},
   "outputs": [],
   "source": [
    "trans_line = transition_to_latex(transition(line))\n",
    "\n",
    "display(trans_line, Latex(trans_line))"
   ]
  },
  {
   "cell_type": "markdown",
   "metadata": {},
   "source": [
    "## Processing of a list of lines"
   ]
  },
  {
   "cell_type": "markdown",
   "metadata": {},
   "source": [
    "### Get chemical species among lines"
   ]
  },
  {
   "cell_type": "code",
   "execution_count": null,
   "metadata": {},
   "outputs": [],
   "source": [
    "print(*molecules_among_lines(lines))"
   ]
  },
  {
   "cell_type": "markdown",
   "metadata": {},
   "source": [
    "### Filter lines by chemical species"
   ]
  },
  {
   "cell_type": "code",
   "execution_count": null,
   "metadata": {},
   "outputs": [],
   "source": [
    "mols = [\"13c_o\", \"c_18o\"]\n",
    "print(*filter_molecules(lines, mols))"
   ]
  },
  {
   "cell_type": "markdown",
   "metadata": {},
   "source": [
    "### Display a LaTeX version of a random line of every molecule"
   ]
  },
  {
   "cell_type": "code",
   "execution_count": null,
   "metadata": {},
   "outputs": [],
   "source": [
    "for mol in molecules_among_lines(lines):\n",
    "    lines_mol = filter_molecules(lines, mol)\n",
    "    ex_line = rd.choice(lines_mol)\n",
    "    print(ex_line)\n",
    "    display(Latex(line_to_latex(ex_line)))\n",
    "    print(\"\")"
   ]
  },
  {
   "cell_type": "markdown",
   "metadata": {},
   "source": [
    "## Hyperfine structures handling"
   ]
  },
  {
   "cell_type": "code",
   "execution_count": null,
   "metadata": {},
   "outputs": [],
   "source": [
    "line_1 = \"shp_n10_j10_f9d5__n9_j10_f9d5\"\n",
    "line_2 = \"shp_n10_j10_f10d5__n9_j10_f9d5\"\n",
    "line_3 = \"so_n7_j6__n6_j6\""
   ]
  },
  {
   "cell_type": "markdown",
   "metadata": {},
   "source": [
    "### Check whether a line corresponds to a degenerate energy level"
   ]
  },
  {
   "cell_type": "code",
   "execution_count": null,
   "metadata": {},
   "outputs": [],
   "source": [
    "is_hyperfine(line_1), is_hyperfine(line_2), is_hyperfine(line_3)"
   ]
  },
  {
   "cell_type": "markdown",
   "metadata": {},
   "source": [
    "### Check whether two lines belong to the same hyperfine structure"
   ]
  },
  {
   "cell_type": "code",
   "execution_count": null,
   "metadata": {},
   "outputs": [],
   "source": [
    "is_hyperfine(line_1, line_2), is_hyperfine(line_1, line_3), is_hyperfine(line_2, line_3)"
   ]
  },
  {
   "cell_type": "markdown",
   "metadata": {},
   "source": [
    "### Remove hyperfine levels if exist"
   ]
  },
  {
   "cell_type": "code",
   "execution_count": null,
   "metadata": {},
   "outputs": [],
   "source": [
    "display(Latex(line_to_latex(line_1)))\n",
    "display(Latex(line_to_latex(remove_hyperfine(line_1))))"
   ]
  },
  {
   "cell_type": "code",
   "execution_count": null,
   "metadata": {},
   "outputs": [],
   "source": [
    "display(Latex(line_to_latex(line_2)))\n",
    "display(Latex(line_to_latex(remove_hyperfine(line_2))))"
   ]
  },
  {
   "cell_type": "code",
   "execution_count": null,
   "metadata": {},
   "outputs": [],
   "source": [
    "display(Latex(line_to_latex(line_3)))\n",
    "display(Latex(line_to_latex(remove_hyperfine(line_3))))"
   ]
  },
  {
   "cell_type": "markdown",
   "metadata": {},
   "source": [
    "## Settings\n",
    "\n",
    "Several parameters can be modified to change the behavior of the code:\n",
    "- `Settings.math_mode` (`bool`): Controls whether latex code will be embedded in a math mode.\n",
    "__Default:__ `True`.\n",
    "- `Settings.ignored_transitions` (`List[str]`): Defines transitions to ignores (see _energy_to_latex).\n",
    "__Default:__ `[]`.\n",
    "- `Settings.ignore_electronic` (`bool`): Choose whether to ignore electronic configurations.\n",
    "__Default:__ `False`.\n",
    "- `Settings.ignore_litterals` (`bool`): Choose whether to ignore other configurations.\n",
    "__Default:__ `False`.\n",
    "- `Settings.rotational_only` (`bool`): Choose a simplified description with only the rotational transition (J)."
   ]
  },
  {
   "cell_type": "code",
   "execution_count": null,
   "metadata": {},
   "outputs": [],
   "source": [
    "line = \"h2_v0_j2__v0_j0\""
   ]
  },
  {
   "cell_type": "markdown",
   "metadata": {},
   "source": [
    "By default, the line in included in math mode to be useable immediatly. However, the math mode can be disabled in order to make it possible to integrate the line into a larger equation."
   ]
  },
  {
   "cell_type": "code",
   "execution_count": null,
   "metadata": {},
   "outputs": [],
   "source": [
    "Settings.math_mode = False\n",
    "latex_line = line_to_latex(line)\n",
    "display(latex_line)\n",
    "\n",
    "Settings.math_mode = True\n",
    "latex_line = line_to_latex(line)\n",
    "display(latex_line)\n",
    "display(Latex(latex_line))"
   ]
  },
  {
   "cell_type": "markdown",
   "metadata": {},
   "source": [
    "Some lines have many quantum numbers, which can make their notation cumbersome. Where there is no ambiguity, it may be useful to omit certain transitions from the display."
   ]
  },
  {
   "cell_type": "code",
   "execution_count": null,
   "metadata": {},
   "outputs": [],
   "source": [
    "Settings.ignored_transitions = []\n",
    "latex_line = line_to_latex(line)\n",
    "display(latex_line)\n",
    "display(Latex(latex_line))\n",
    "\n",
    "Settings.ignored_transitions = [\"v\"]\n",
    "latex_line = line_to_latex(line)\n",
    "display(latex_line)\n",
    "display(Latex(latex_line))\n",
    "\n",
    "Settings.ignored_transitions = [\"v\", \"j\"]\n",
    "latex_line = line_to_latex(line)\n",
    "display(latex_line)\n",
    "display(Latex(latex_line))\n",
    "\n",
    "Settings.ignored_transitions = [] # Reset the setting"
   ]
  },
  {
   "cell_type": "markdown",
   "metadata": {},
   "source": [
    "To further shorten line notation, you can choose to display only the rotational transition. Note that there may be ambiguity between several lines of the same species."
   ]
  },
  {
   "cell_type": "code",
   "execution_count": null,
   "metadata": {},
   "outputs": [],
   "source": [
    "Settings.only_rotational = True\n",
    "latex_line = line_to_latex(line)\n",
    "display(latex_line)\n",
    "display(Latex(latex_line))"
   ]
  }
 ],
 "metadata": {
  "kernelspec": {
   "display_name": "Python 3 (ipykernel)",
   "language": "python",
   "name": "python3"
  },
  "language_info": {
   "codemirror_mode": {
    "name": "ipython",
    "version": 3
   },
   "file_extension": ".py",
   "mimetype": "text/x-python",
   "name": "python",
   "nbconvert_exporter": "python",
   "pygments_lexer": "ipython3",
   "version": "3.10.12"
  }
 },
 "nbformat": 4,
 "nbformat_minor": 2
}
